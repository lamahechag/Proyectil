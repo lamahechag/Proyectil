{
 "cells": [
  {
   "cell_type": "code",
   "execution_count": 24,
   "metadata": {
    "collapsed": true
   },
   "outputs": [],
   "source": [
    "import numpy as np"
   ]
  },
  {
   "cell_type": "markdown",
   "metadata": {
    "collapsed": true
   },
   "source": [
    "Las ecuaciones para un proyectil a corro se encuentran en el siguiente link\n",
    "http://www.hri.res.in/~debsadhukhan/HRI%20web/pdf/air%20rocket.pdf\n",
    "\n",
    "De este documento podemos sacar la ecuacion mas importante.\n",
    "\n",
    "$v_{0}=\\sqrt{2L(\\frac{(P_{s} - P_{0})A}{m}-g)}$"
   ]
  },
  {
   "cell_type": "code",
   "execution_count": 50,
   "metadata": {
    "collapsed": false
   },
   "outputs": [],
   "source": [
    "\n",
    "L=0.8\n",
    "m=0.93\n",
    "A=0.02*0.02\n",
    "g=9.8\n",
    "P_0=10**5\n",
    "P_s=6.2*10**6\n",
    "angle=np.pi/4\n",
    "sin=np.sin(angle)\n",
    "v_0=(2*L*(A*(P_s-P_0)/m -g*sin))**0.5 # Ecuacion para la velocidad inicial\n",
    "\n",
    "cos=np.cos(angle)\n",
    "h_0=1.2\n",
    "D=v_0*cos*((2*v_0*sin)/(g)+(2*h_0/g)**0.5)"
   ]
  },
  {
   "cell_type": "code",
   "execution_count": 51,
   "metadata": {
    "collapsed": false
   },
   "outputs": [
    {
     "data": {
      "text/plain": [
       "64.705193207628909"
      ]
     },
     "execution_count": 51,
     "metadata": {},
     "output_type": "execute_result"
    }
   ],
   "source": [
    "v_0"
   ]
  },
  {
   "cell_type": "code",
   "execution_count": 52,
   "metadata": {
    "collapsed": false
   },
   "outputs": [
    {
     "data": {
      "text/plain": [
       "449.86271611532993"
      ]
     },
     "execution_count": 52,
     "metadata": {},
     "output_type": "execute_result"
    }
   ],
   "source": [
    "D"
   ]
  },
  {
   "cell_type": "code",
   "execution_count": null,
   "metadata": {
    "collapsed": true
   },
   "outputs": [],
   "source": []
  }
 ],
 "metadata": {
  "kernelspec": {
   "display_name": "Python 3",
   "language": "python",
   "name": "python3"
  },
  "language_info": {
   "codemirror_mode": {
    "name": "ipython",
    "version": 3
   },
   "file_extension": ".py",
   "mimetype": "text/x-python",
   "name": "python",
   "nbconvert_exporter": "python",
   "pygments_lexer": "ipython3",
   "version": "3.5.1"
  }
 },
 "nbformat": 4,
 "nbformat_minor": 0
}
